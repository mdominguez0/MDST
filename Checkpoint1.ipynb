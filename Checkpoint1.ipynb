{
 "cells": [
  {
   "cell_type": "code",
   "execution_count": 24,
   "metadata": {},
   "outputs": [],
   "source": [
    "import random as rd\n",
    "import base64"
   ]
  },
  {
   "cell_type": "code",
   "execution_count": 25,
   "metadata": {},
   "outputs": [],
   "source": [
    "def part1(num):\n",
    "    if num%2 == 0:\n",
    "        print(\"even\")\n",
    "    else:\n",
    "        print(\"odd\")\n",
    "    "
   ]
  },
  {
   "cell_type": "code",
   "execution_count": 26,
   "metadata": {},
   "outputs": [],
   "source": [
    "def part2():\n",
    "    \"\"\"\n",
    "    Generate a random number between 1 and 9 (including 1 and 9). Ask the user\n",
    "    to guess the number, then tell them whether they guessed too low, too high,\n",
    "    or exactly right.\n",
    "    (Hint: remember to use the user input lessons from the very first\n",
    "    exercise).\n",
    "    Keep the game going until the user types \"exit\".\n",
    "    [ try checking the random module in python on google. Concepts: Infinite\n",
    "    loops, if, else, loops and user/input].\n",
    "    \"\"\"\n",
    "    random_number = rd.randint(1,9)\n",
    "    x = int(input(\"guess a number:\"))\n",
    "    print(x)\n",
    "    while x != random_number:\n",
    "        if x < random_number:\n",
    "            print(\"too low\")\n",
    "            x = int(input(\"guess again:\"))\n",
    "        elif x > random_number:\n",
    "            print(\"too high\")\n",
    "            x = int(input(\"guess again:\"))\n",
    "    print(\"congrats\" + \" random number is:\"+str(random_number) )     "
   ]
  },
  {
   "cell_type": "code",
   "execution_count": 27,
   "metadata": {},
   "outputs": [],
   "source": [
    "def part3(string):\n",
    "    \"\"\"\n",
    "    Ask the user for a string and print out whether this string is a palindrome\n",
    "    or not. (A palindrome is a string that reads the same forwards and\n",
    "    backwards.)\n",
    "    \"\"\"\n",
    "    word = [i for i in string]\n",
    "    reverse = word[::-1]\n",
    "    if word == reverse:\n",
    "        print(\"True\")\n",
    "    else:\n",
    "        print(\"false\")\n",
    "    "
   ]
  },
  {
   "cell_type": "code",
   "execution_count": 28,
   "metadata": {},
   "outputs": [],
   "source": [
    "def part4a(filename, username, password):\n",
    "    \"\"\"\n",
    "    Encrypt your username and password using base64 module\n",
    "    Store your encrypted username on the first line and your encrypted password\n",
    "    on the second line.\n",
    "    \"\"\"\n",
    "    username_bytes = username.encode('ascii')\n",
    "    password_bytes = password.encode('ascii')\n",
    "    \n",
    "    username_64 = base64.b64encode(username_bytes)\n",
    "    password_64 = base64.b64encode(password_bytes)\n",
    "    \n",
    "    text_file = open(str(filename), \"w\")\n",
    "    text_file.write(str(username_64)[1:] +\"\\n\" +str(password_64)[1:])\n",
    "    text_file.close()\n",
    "    return\n",
    "\n",
    "def part4b(filename, password=None):\n",
    "    \"\"\"\n",
    "    Create a function to read the file with your login information.\n",
    "    Print out the decrypted username and password.\n",
    "    If a password is specified, update the file with the new password.\n",
    "    \"\"\"\n",
    "    \n",
    "    if password:\n",
    "        password_bytes = password.encode('ascii')\n",
    "        password_64 = base64.b64encode(password_bytes)\n",
    "        \n",
    "        with open(str(filename), \"r\") as file:\n",
    "            lines = file.readlines()\n",
    "\n",
    "        lines[1] = str(password_64)\n",
    "        with open(str(filename), \"w\") as file:\n",
    "            for line in lines:\n",
    "                file.write(line)\n",
    "            file.close()\n",
    "    \n",
    "    text_file = open(str(filename), \"r+\")\n",
    "\n",
    "    line_text = text_file.readlines()\n",
    "\n",
    "    first_line = line_text[0][1:]\n",
    "    second_line = line_text[1][1:]\n",
    "    \n",
    "    first_line_bytes = first_line.encode('ascii')\n",
    "    second_line_bytes = second_line.encode('ascii')\n",
    "\n",
    "\n",
    "    \n",
    "    username_bytes = base64.b64decode(first_line_bytes)\n",
    "    password_bytes = base64.b64decode(second_line_bytes)\n",
    "    \n",
    "    username_decoded = username_bytes.decode('ascii')\n",
    "    password_decoded = password_bytes.decode('ascii')\n",
    "\n",
    "\n",
    "    text_file.close()\n",
    "    \n",
    "    \n",
    "    print( username_decoded,password_decoded)\n",
    "    \n",
    "    return\n"
   ]
  },
  {
   "cell_type": "code",
   "execution_count": 29,
   "metadata": {},
   "outputs": [
    {
     "name": "stdout",
     "output_type": "stream",
     "text": [
      "odd\n",
      "even\n",
      "guess a number:1\n",
      "1\n",
      "too low\n",
      "guess again:2\n",
      "too low\n",
      "guess again:4\n",
      "too low\n",
      "guess again:6\n",
      "too low\n",
      "guess again:8\n",
      "too low\n",
      "guess again:9\n",
      "congrats random number is:9\n",
      "false\n",
      "True\n",
      "naitian p4ssw0rd\n",
      "naitian p4ssw0rd!\n",
      "naitian p4ssw0rd!\n"
     ]
    }
   ],
   "source": []
  },
  {
   "cell_type": "code",
   "execution_count": null,
   "metadata": {},
   "outputs": [],
   "source": []
  },
  {
   "cell_type": "code",
   "execution_count": null,
   "metadata": {},
   "outputs": [],
   "source": []
  }
 ],
 "metadata": {
  "kernelspec": {
   "display_name": "Python 3",
   "language": "python",
   "name": "python3"
  },
  "language_info": {
   "codemirror_mode": {
    "name": "ipython",
    "version": 3
   },
   "file_extension": ".py",
   "mimetype": "text/x-python",
   "name": "python",
   "nbconvert_exporter": "python",
   "pygments_lexer": "ipython3",
   "version": "3.7.3"
  }
 },
 "nbformat": 4,
 "nbformat_minor": 2
}
